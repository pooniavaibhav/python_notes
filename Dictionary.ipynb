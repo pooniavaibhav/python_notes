{
 "cells": [
  {
   "cell_type": "markdown",
   "metadata": {},
   "source": [
    "### Dictionary-\n",
    "A Dictionary is a collection data type which has key value pair,Unordereed and mutable."
   ]
  },
  {
   "cell_type": "markdown",
   "metadata": {},
   "source": [
    "### Properties-"
   ]
  },
  {
   "cell_type": "code",
   "execution_count": 17,
   "metadata": {},
   "outputs": [
    {
     "data": {
      "text/plain": [
       "{'name': 'max', 'age': 28, 'city': 'New York'}"
      ]
     },
     "execution_count": 17,
     "metadata": {},
     "output_type": "execute_result"
    }
   ],
   "source": [
    "my_dict ={\"name\":\"max\",\"age\":28,\"city\":\"New York\"}\n",
    "my_dict"
   ]
  },
  {
   "cell_type": "code",
   "execution_count": 22,
   "metadata": {},
   "outputs": [
    {
     "data": {
      "text/plain": [
       "{'name': 'max', 'age': 28, 'city': 'New York'}"
      ]
     },
     "execution_count": 22,
     "metadata": {},
     "output_type": "execute_result"
    }
   ],
   "source": [
    "#anotherway\n",
    "my_dict2 = dict(name=\"max\", age=28,city=\"New York\")\n",
    "my_dict2"
   ]
  },
  {
   "cell_type": "code",
   "execution_count": 19,
   "metadata": {},
   "outputs": [
    {
     "data": {
      "text/plain": [
       "'max'"
      ]
     },
     "execution_count": 19,
     "metadata": {},
     "output_type": "execute_result"
    }
   ],
   "source": [
    "# getting value\n",
    "my_dict2['name']"
   ]
  },
  {
   "cell_type": "code",
   "execution_count": 23,
   "metadata": {},
   "outputs": [
    {
     "name": "stdout",
     "output_type": "stream",
     "text": [
      "{'name': 'max', 'age': 28, 'city': 'New York', 'email': 'abc@gmail.com'}\n",
      "{'name': 'max', 'age': 28, 'city': 'New York', 'email': 'def@gmail.com'}\n"
     ]
    }
   ],
   "source": [
    "# Dictionary is mutable so you can add or change items-\n",
    "my_dict2[\"email\"]='abc@gmail.com'\n",
    "print(my_dict2)\n",
    "# change value\n",
    "my_dict2[\"email\"]='def@gmail.com'\n",
    "print(my_dict2)"
   ]
  },
  {
   "cell_type": "code",
   "execution_count": 21,
   "metadata": {},
   "outputs": [
    {
     "name": "stdout",
     "output_type": "stream",
     "text": [
      "{'age': 28, 'city': 'New York', 'email': 'def@gmail.com'}\n",
      "{'city': 'New York', 'email': 'def@gmail.com'}\n"
     ]
    }
   ],
   "source": [
    "# removing a key from dictionary.\n",
    "del my_dict2[\"name\"]\n",
    "print(my_dict2)\n",
    "#using pop method\n",
    "my_dict2.pop(\"age\")\n",
    "print(my_dict2)"
   ]
  },
  {
   "cell_type": "code",
   "execution_count": 26,
   "metadata": {},
   "outputs": [
    {
     "name": "stdout",
     "output_type": "stream",
     "text": [
      "28\n"
     ]
    }
   ],
   "source": [
    "#To check if a key is in dictionary-\n",
    "if \"age\" in my_dict2:\n",
    "    print(my_dict['age'])"
   ]
  },
  {
   "cell_type": "code",
   "execution_count": 25,
   "metadata": {},
   "outputs": [
    {
     "name": "stdout",
     "output_type": "stream",
     "text": [
      "28\n"
     ]
    }
   ],
   "source": [
    "#use try except-\n",
    "try:\n",
    "    print(my_dict2[\"age\"])\n",
    "except:\n",
    "    print('not found')"
   ]
  },
  {
   "cell_type": "code",
   "execution_count": 35,
   "metadata": {},
   "outputs": [
    {
     "name": "stdout",
     "output_type": "stream",
     "text": [
      "max\n",
      "28\n",
      "New York\n",
      "def@gmail.com\n"
     ]
    }
   ],
   "source": [
    "#getting all keys-\n",
    "for i in my_dict2.values():\n",
    "    print(i)"
   ]
  },
  {
   "cell_type": "code",
   "execution_count": 38,
   "metadata": {},
   "outputs": [
    {
     "name": "stdout",
     "output_type": "stream",
     "text": [
      "name max\n",
      "age 28\n",
      "city New York\n",
      "email def@gmail.com\n"
     ]
    }
   ],
   "source": [
    "# opening a dictionary-\n",
    "for key,value in my_dict2.items():\n",
    "    print(key,value)"
   ]
  },
  {
   "cell_type": "code",
   "execution_count": 40,
   "metadata": {},
   "outputs": [
    {
     "name": "stdout",
     "output_type": "stream",
     "text": [
      "{'name': 'max', 'age': 28, 'city': 'New York', 'email': 'def@gmail.com'}\n",
      "{'name': 'max', 'age': 28, 'city': 'New York', 'email': 'def@gmail.com'}\n"
     ]
    }
   ],
   "source": [
    "# copy a dictionary\n",
    "new_dict = my_dict2.copy()\n",
    "print(new_dict)\n",
    "#another way-\n",
    "new_dict2 = dict(new_dict)\n",
    "print(new_dict2)"
   ]
  },
  {
   "cell_type": "code",
   "execution_count": 45,
   "metadata": {},
   "outputs": [
    {
     "data": {
      "text/plain": [
       "{'name': 'chikki', 'class': '8', 'school': 'jpps', 'area': 'baraut'}"
      ]
     },
     "execution_count": 45,
     "metadata": {},
     "output_type": "execute_result"
    }
   ],
   "source": [
    "# merge two dictionary-\n",
    "dict1 = {'name':'chikki','class':'8'}\n",
    "dict2 = {'school':'jpps','area':'baraut'}\n",
    "dict1.update(dict2)\n",
    "dict1"
   ]
  },
  {
   "cell_type": "code",
   "execution_count": 48,
   "metadata": {},
   "outputs": [
    {
     "name": "stdout",
     "output_type": "stream",
     "text": [
      "{(8, 7): 15}\n"
     ]
    },
    {
     "ename": "TypeError",
     "evalue": "unhashable type: 'list'",
     "output_type": "error",
     "traceback": [
      "\u001b[0;31m---------------------------------------------------------------------------\u001b[0m",
      "\u001b[0;31mTypeError\u001b[0m                                 Traceback (most recent call last)",
      "\u001b[0;32m<ipython-input-48-c78651192362>\u001b[0m in \u001b[0;36m<module>\u001b[0;34m\u001b[0m\n\u001b[1;32m      4\u001b[0m \u001b[0mprint\u001b[0m\u001b[0;34m(\u001b[0m\u001b[0mmydict\u001b[0m\u001b[0;34m)\u001b[0m\u001b[0;34m\u001b[0m\u001b[0;34m\u001b[0m\u001b[0m\n\u001b[1;32m      5\u001b[0m \u001b[0mmylist\u001b[0m \u001b[0;34m=\u001b[0m \u001b[0;34m[\u001b[0m\u001b[0;36m8\u001b[0m\u001b[0;34m,\u001b[0m\u001b[0;36m7\u001b[0m\u001b[0;34m]\u001b[0m\u001b[0;34m\u001b[0m\u001b[0;34m\u001b[0m\u001b[0m\n\u001b[0;32m----> 6\u001b[0;31m \u001b[0mmydict2\u001b[0m \u001b[0;34m=\u001b[0m \u001b[0;34m{\u001b[0m\u001b[0mmylist\u001b[0m\u001b[0;34m:\u001b[0m\u001b[0;36m15\u001b[0m\u001b[0;34m}\u001b[0m\u001b[0;34m\u001b[0m\u001b[0;34m\u001b[0m\u001b[0m\n\u001b[0m",
      "\u001b[0;31mTypeError\u001b[0m: unhashable type: 'list'"
     ]
    }
   ],
   "source": [
    "#You can create a tuple inside a dictionary but not a list.\n",
    "mytuple = (8, 7)\n",
    "mydict = {mytuple:15}\n",
    "print(mydict)\n",
    "mylist = [8,7]\n",
    "mydict2 = {mylist:15}"
   ]
  },
  {
   "cell_type": "code",
   "execution_count": null,
   "metadata": {},
   "outputs": [],
   "source": []
  }
 ],
 "metadata": {
  "kernelspec": {
   "display_name": "Python 3",
   "language": "python",
   "name": "python3"
  },
  "language_info": {
   "codemirror_mode": {
    "name": "ipython",
    "version": 3
   },
   "file_extension": ".py",
   "mimetype": "text/x-python",
   "name": "python",
   "nbconvert_exporter": "python",
   "pygments_lexer": "ipython3",
   "version": "3.6.9"
  }
 },
 "nbformat": 4,
 "nbformat_minor": 4
}
