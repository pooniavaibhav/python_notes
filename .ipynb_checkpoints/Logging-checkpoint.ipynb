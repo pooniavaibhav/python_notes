{
 "cells": [
  {
   "cell_type": "code",
   "execution_count": 10,
   "metadata": {},
   "outputs": [],
   "source": [
    "import logging"
   ]
  },
  {
   "cell_type": "code",
   "execution_count": 3,
   "metadata": {},
   "outputs": [
    {
     "name": "stderr",
     "output_type": "stream",
     "text": [
      "WARNING:root:warning\n",
      "ERROR:root:error\n",
      "CRITICAL:root:critical\n"
     ]
    }
   ],
   "source": [
    "# you will notice that only warning,error and critical are printed.\n",
    "#this is becasue by default python allows msg with warning a nd abve to get printed.\n",
    "logging.debug(\"debug\")\n",
    "logging.info('info')\n",
    "logging.warning('warning')\n",
    "logging.error('error')\n",
    "logging.critical('critical')"
   ]
  },
  {
   "cell_type": "code",
   "execution_count": 14,
   "metadata": {},
   "outputs": [
    {
     "name": "stderr",
     "output_type": "stream",
     "text": [
      "WARNING:root:warning\n",
      "ERROR:root:error\n",
      "CRITICAL:root:critical\n"
     ]
    }
   ],
   "source": [
    "# you can change it by basic configuration\n",
    "import logging\n",
    "logging.basicConfig(level=logging.DEBUG, format='%(asctime)s-%(name)s-%(levelname)s-%(message)s',\n",
    "                   datefmt='%m/%d/%Y %H:%M:%S')\n",
    "logging.debug(\"debug\")\n",
    "logging.info('info')\n",
    "logging.warning('warning')\n",
    "logging.error('error')\n",
    "logging.critical('critical')"
   ]
  },
  {
   "cell_type": "markdown",
   "metadata": {},
   "source": [
    "### By default it logs to root but we dont use root we create our module logger."
   ]
  },
  {
   "cell_type": "code",
   "execution_count": 18,
   "metadata": {},
   "outputs": [],
   "source": [
    "import logging\n",
    "logger = logging.getLogger(__name__)\n",
    "logger.info(\"hello\")\n",
    "#save it in helper.py"
   ]
  },
  {
   "cell_type": "code",
   "execution_count": 20,
   "metadata": {},
   "outputs": [],
   "source": [
    "## then you import that module in your main where you put logs\n",
    "# now it will not print root but your module name i.e. helper.\n",
    "import helper"
   ]
  },
  {
   "cell_type": "markdown",
   "metadata": {},
   "source": [
    "### Log Handlers-"
   ]
  },
  {
   "cell_type": "code",
   "execution_count": 26,
   "metadata": {},
   "outputs": [
    {
     "name": "stderr",
     "output_type": "stream",
     "text": [
      "WARNING:__main__:this is warning\n",
      "2020-10-15 23:57:41,859-__main__-ERROR-this is error\n",
      "ERROR:__main__:this is error\n"
     ]
    }
   ],
   "source": [
    "import logging\n",
    "logger = logging.getLogger(__name__)\n",
    "\n",
    "# create handler\n",
    "stream_h = logging.StreamHandler()\n",
    "file_h = logging.FileHandler('file.log')\n",
    "\n",
    "# level & format-\n",
    "stream_h.setLevel(logging.ERROR)\n",
    "file_h.setLevel(logging.WARNING)\n",
    "\n",
    "formatter = logging.Formatter('%(asctime)s-%(name)s-%(levelname)s-%(message)s')\n",
    "stream_h.setFormatter(formatter)\n",
    "file_h.setFormatter(formatter)\n",
    "\n",
    "logger.addHandler(stream_h)\n",
    "logger.addHandler(file_h)\n",
    "\n",
    "logger.warning(\"this is warning\")\n",
    "logger.error(\"this is error\")"
   ]
  },
  {
   "cell_type": "markdown",
   "metadata": {},
   "source": [
    "### we can also use file config and dict config similer to basic config- "
   ]
  },
  {
   "cell_type": "code",
   "execution_count": null,
   "metadata": {},
   "outputs": [],
   "source": [
    "# for that you creatre a file named loging.cong and mentions parametres in following way-\n",
    "\n",
    "[loggers]\n",
    "key=root,simpleExmaple\n",
    "\n",
    "[handlers]\n",
    "keys = consoleHandler\n",
    "\n",
    "[formatters]\n",
    "keys=simpleFormatter\n",
    "\n",
    "[logger_root]\n",
    "level=DEBUG\n",
    "handlers=consoleHandler\n",
    "\n",
    "[logger_simpleExample]\n",
    "level = DUBUG\n",
    "handlers=consoleHandler\n",
    "\n",
    "[handler_consoleHandler]\n",
    "class=StreamHandler\n",
    "level=DEBUG\n",
    "formatters=simpleFormatter\n",
    "args=(sys.stdout,)\n",
    "\n",
    "[formatter_simpleFormatter]\n",
    "format = '%(asctime)s-%(name)s-%(levelname)s-%(message)s'"
   ]
  },
  {
   "cell_type": "code",
   "execution_count": null,
   "metadata": {},
   "outputs": [],
   "source": [
    "#After creating logging.conf file\n",
    "import logging \n",
    "import logging.config\n",
    "logging.config.fileConfig('logging.conf')\n",
    "logger = logging.getLogger('simpleExample')\n",
    "logger.deubug('this is dubug.')"
   ]
  },
  {
   "cell_type": "code",
   "execution_count": null,
   "metadata": {},
   "outputs": [],
   "source": [
    "# to use dictconf use-\n",
    "logging.config.dictConfig('logging.conf')"
   ]
  },
  {
   "cell_type": "markdown",
   "metadata": {},
   "source": [
    "### Traces-"
   ]
  },
  {
   "cell_type": "code",
   "execution_count": 27,
   "metadata": {},
   "outputs": [
    {
     "name": "stderr",
     "output_type": "stream",
     "text": [
      "ERROR:root:list index out of range\n",
      "Traceback (most recent call last):\n",
      "  File \"<ipython-input-27-ee6cce7b3841>\", line 5, in <module>\n",
      "    val = a[4]\n",
      "IndexError: list index out of range\n"
     ]
    }
   ],
   "source": [
    "# by this we not only we print but also lock traces of code-\n",
    "import logging\n",
    "try:\n",
    "    a=[1,2,3]\n",
    "    val = a[4]\n",
    "except IndexError as e:\n",
    "    logging.error(e,exc_info=True)\n",
    "    "
   ]
  },
  {
   "cell_type": "code",
   "execution_count": 28,
   "metadata": {},
   "outputs": [
    {
     "name": "stderr",
     "output_type": "stream",
     "text": [
      "ERROR:root:the error is Traceback (most recent call last):\n",
      "  File \"<ipython-input-28-43c747dede2b>\", line 7, in <module>\n",
      "    val = a[4]\n",
      "IndexError: list index out of range\n",
      "\n"
     ]
    }
   ],
   "source": [
    "# suppose we dnt know the type of error then we can get traces by\n",
    "import logging\n",
    "import traceback\n",
    "\n",
    "try:\n",
    "    a = [1,2,3]\n",
    "    val = a[4]\n",
    "except:\n",
    "    logging.error('the error is %s', traceback.format_exc())"
   ]
  },
  {
   "cell_type": "markdown",
   "metadata": {},
   "source": [
    "### Rotating file handlers-"
   ]
  },
  {
   "cell_type": "code",
   "execution_count": null,
   "metadata": {},
   "outputs": [],
   "source": [
    "# suppose you have  a large applications with a lot of log messages and you want to keep\n",
    "#the track of the most recent events you can use rotating file handlers.\n",
    "import logging\n",
    "from logging.handlers import RotatingFileHandler\n",
    "\n",
    "logger = logging.getLogger(__name__)\n",
    "logger.setLevel(logging.INFO)\n",
    "\n",
    "#roll over  after 2 kb and keep  backup  logs app.log.1,app.log.2 etc\n",
    "handler = RotatingFileHandler('app.log',maxBytes=2000, backupCount=5)\n",
    "logger.addHandler(handler)\n",
    "\n",
    "for i in range(10000):\n",
    "    logger.info('Hello World')"
   ]
  },
  {
   "cell_type": "markdown",
   "metadata": {},
   "source": [
    "### Time Rotating File handler-"
   ]
  },
  {
   "cell_type": "code",
   "execution_count": null,
   "metadata": {},
   "outputs": [],
   "source": [
    "#suppos eyour app run for a very long time \n",
    "# this will create a rotating file based on time-\n",
    "import logging\n",
    "from logging.handlers import TimeRotatingFileHandler\n",
    "\n",
    "logger = logging.getLogger(__name__)\n",
    "logger.setLevel(logging.INFO)\n",
    "\n",
    "#roll over  after 2 kb and keep  backup  logs app.log.1,app.log.2 etc\n",
    "handler = TimeRotatingFileHandler('app.log',when='m',interval=5 backupCount=5)\n",
    "# ma stand for minute similarly s=sec, m=min,h=hour,d=day\n",
    "logger.addHandler(handler)\n",
    "\n",
    "for i in range(10000):\n",
    "    logger.info('Hello World')"
   ]
  }
 ],
 "metadata": {
  "kernelspec": {
   "display_name": "Python 3",
   "language": "python",
   "name": "python3"
  },
  "language_info": {
   "codemirror_mode": {
    "name": "ipython",
    "version": 3
   },
   "file_extension": ".py",
   "mimetype": "text/x-python",
   "name": "python",
   "nbconvert_exporter": "python",
   "pygments_lexer": "ipython3",
   "version": "3.6.9"
  }
 },
 "nbformat": 4,
 "nbformat_minor": 4
}
