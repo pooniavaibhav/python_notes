{
 "cells": [
  {
   "cell_type": "markdown",
   "metadata": {},
   "source": [
    "### Decorator-"
   ]
  },
  {
   "cell_type": "markdown",
   "metadata": {},
   "source": [
    "A decorator is a function that takes another function as an argument and extends the behaviour of this function with out explicitely modifying it. These are of two types-\n",
    "* class decorators\n",
    "* function decorators"
   ]
  },
  {
   "cell_type": "markdown",
   "metadata": {},
   "source": [
    "### Important-\n",
    "Functins in python are first class object this means that like any other object they can be-\n",
    "* defined inside another function.\n",
    "* pass as an argument to another function\n",
    "* return from a function."
   ]
  },
  {
   "cell_type": "markdown",
   "metadata": {},
   "source": [
    "### This is how we extend the behaviour of a function with a decorator."
   ]
  },
  {
   "cell_type": "code",
   "execution_count": 3,
   "metadata": {},
   "outputs": [
    {
     "name": "stdout",
     "output_type": "stream",
     "text": [
      "start\n",
      "vaibhav\n",
      "end\n"
     ]
    }
   ],
   "source": [
    "def start_end_deorator(func):\n",
    "    def wrapper():\n",
    "        print('start')\n",
    "        func()\n",
    "        print('end')\n",
    "    return wrapper\n",
    "\n",
    "@start_end_deorator\n",
    "def print_name():\n",
    "    print('vaibhav')\n",
    "\n",
    "print_name()"
   ]
  },
  {
   "cell_type": "code",
   "execution_count": 7,
   "metadata": {},
   "outputs": [
    {
     "name": "stdout",
     "output_type": "stream",
     "text": [
      "start\n",
      "end\n",
      "checkcola\n"
     ]
    }
   ],
   "source": [
    "## function with argument-\n",
    "def start_end_deorator(func):\n",
    "    def wrapper(*args,**kwargs):\n",
    "        print('start')\n",
    "        x = func(*args, **kwargs)\n",
    "        print('end')\n",
    "        return x\n",
    "    return wrapper\n",
    "\n",
    "@start_end_deorator\n",
    "def print_name(name):\n",
    "    return(name + 'cola')\n",
    "\n",
    "y = print_name('check')\n",
    "print(y) "
   ]
  },
  {
   "cell_type": "markdown",
   "metadata": {},
   "source": [
    "## Class decorator-"
   ]
  },
  {
   "cell_type": "markdown",
   "metadata": {},
   "source": [
    "These are mostly used if we want to maintain or update a state."
   ]
  },
  {
   "cell_type": "code",
   "execution_count": 9,
   "metadata": {},
   "outputs": [
    {
     "name": "stdout",
     "output_type": "stream",
     "text": [
      "called 1 times\n",
      "Hello\n",
      "called 2 times\n",
      "Hello\n"
     ]
    }
   ],
   "source": [
    "class CountCalls:\n",
    "    \n",
    "    def __init__(self,func):\n",
    "        self.func = func\n",
    "        self.num_calls = 0\n",
    "        \n",
    "    def __call__(self,*args,**kwargs):\n",
    "        self.num_calls +=1\n",
    "        print(f'called {self.num_calls} times')\n",
    "        return self.func(*args, **kwargs)\n",
    "\n",
    "@CountCalls\n",
    "def say_hello():\n",
    "    print('Hello')\n",
    "    \n",
    "say_hello()\n",
    "say_hello()"
   ]
  },
  {
   "cell_type": "code",
   "execution_count": null,
   "metadata": {},
   "outputs": [],
   "source": []
  }
 ],
 "metadata": {
  "kernelspec": {
   "display_name": "Python 3",
   "language": "python",
   "name": "python3"
  },
  "language_info": {
   "codemirror_mode": {
    "name": "ipython",
    "version": 3
   },
   "file_extension": ".py",
   "mimetype": "text/x-python",
   "name": "python",
   "nbconvert_exporter": "python",
   "pygments_lexer": "ipython3",
   "version": "3.6.9"
  }
 },
 "nbformat": 4,
 "nbformat_minor": 4
}
