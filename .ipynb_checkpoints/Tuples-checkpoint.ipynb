{
 "cells": [
  {
   "cell_type": "markdown",
   "metadata": {},
   "source": [
    "### Tuple\n",
    "Similer to list a tuple is ordered ,immutable ,allows duplicate element.The only difference is that tuple can not be changed after its creation."
   ]
  },
  {
   "cell_type": "markdown",
   "metadata": {},
   "source": [
    "### Properties-"
   ]
  },
  {
   "cell_type": "code",
   "execution_count": 3,
   "metadata": {},
   "outputs": [
    {
     "data": {
      "text/plain": [
       "(1, 'upon', 'time', 'mumbai', True)"
      ]
     },
     "execution_count": 3,
     "metadata": {},
     "output_type": "execute_result"
    }
   ],
   "source": [
    "mytuple = (1, 'upon', 'time', 'mumbai', True)\n",
    "mytuple"
   ]
  },
  {
   "cell_type": "code",
   "execution_count": 5,
   "metadata": {},
   "outputs": [
    {
     "name": "stdout",
     "output_type": "stream",
     "text": [
      "<class 'str'>\n",
      "<class 'tuple'>\n"
     ]
    }
   ],
   "source": [
    "#when you have only one element in your tuple the type will bw taken as only of that element.\n",
    "x = (\"hey\")\n",
    "print(type(x))\n",
    "#so to avoid it use a single comma(,) after.\n",
    "x = (\"hey\" ,)\n",
    "print(type(x))"
   ]
  },
  {
   "cell_type": "code",
   "execution_count": 6,
   "metadata": {},
   "outputs": [
    {
     "data": {
      "text/plain": [
       "tuple"
      ]
     },
     "execution_count": 6,
     "metadata": {},
     "output_type": "execute_result"
    }
   ],
   "source": [
    "# empty tuple\n",
    "x = tuple()\n",
    "type(x)"
   ]
  },
  {
   "cell_type": "code",
   "execution_count": 22,
   "metadata": {},
   "outputs": [
    {
     "name": "stdout",
     "output_type": "stream",
     "text": [
      "('boy', 'cat', 'dog')\n",
      "<class 'tuple'>\n",
      "['boy', 'cat', 'dog']\n",
      "<class 'list'>\n"
     ]
    }
   ],
   "source": [
    "# converting a list into tuple-\n",
    "mylist = ['boy', 'cat', 'dog']\n",
    "mytuple = tuple(mylist)\n",
    "print(mytuple)\n",
    "print(type(mytuple))\n",
    "# converting a tuple to list-\n",
    "my_list = list(mytuple)\n",
    "print(my_list)\n",
    "print(type(my_list))"
   ]
  },
  {
   "cell_type": "code",
   "execution_count": 8,
   "metadata": {},
   "outputs": [
    {
     "data": {
      "text/plain": [
       "'mumbai'"
      ]
     },
     "execution_count": 8,
     "metadata": {},
     "output_type": "execute_result"
    }
   ],
   "source": [
    "## Accessing items\n",
    "mytuple = (1, 'upon', 'time', 'mumbai', True)\n",
    "item = mytuple[3]\n",
    "item"
   ]
  },
  {
   "cell_type": "code",
   "execution_count": 9,
   "metadata": {},
   "outputs": [
    {
     "ename": "TypeError",
     "evalue": "'tuple' object does not support item assignment",
     "output_type": "error",
     "traceback": [
      "\u001b[0;31m---------------------------------------------------------------------------\u001b[0m",
      "\u001b[0;31mTypeError\u001b[0m                                 Traceback (most recent call last)",
      "\u001b[0;32m<ipython-input-9-9c0cc71614dc>\u001b[0m in \u001b[0;36m<module>\u001b[0;34m\u001b[0m\n\u001b[1;32m      1\u001b[0m \u001b[0;31m## We can not reassign the value\u001b[0m\u001b[0;34m\u001b[0m\u001b[0;34m\u001b[0m\u001b[0;34m\u001b[0m\u001b[0m\n\u001b[0;32m----> 2\u001b[0;31m \u001b[0mmytuple\u001b[0m\u001b[0;34m[\u001b[0m\u001b[0;36m2\u001b[0m\u001b[0;34m]\u001b[0m \u001b[0;34m=\u001b[0m \u001b[0;34m'a'\u001b[0m\u001b[0;34m\u001b[0m\u001b[0;34m\u001b[0m\u001b[0m\n\u001b[0m",
      "\u001b[0;31mTypeError\u001b[0m: 'tuple' object does not support item assignment"
     ]
    }
   ],
   "source": [
    "## We can not reassign the value as in list.\n",
    "mytuple[2] = 'a'"
   ]
  },
  {
   "cell_type": "code",
   "execution_count": 11,
   "metadata": {},
   "outputs": [
    {
     "name": "stdout",
     "output_type": "stream",
     "text": [
      "1\n",
      "upon\n",
      "time\n",
      "mumbai\n",
      "True\n"
     ]
    }
   ],
   "source": [
    "## accessing using loop-\n",
    "for i in mytuple:\n",
    "    print(i)"
   ]
  },
  {
   "cell_type": "code",
   "execution_count": 13,
   "metadata": {},
   "outputs": [
    {
     "name": "stdout",
     "output_type": "stream",
     "text": [
      "True\n"
     ]
    }
   ],
   "source": [
    "# check if your value exists-\n",
    "if 'time' in mytuple:\n",
    "    print(True)"
   ]
  },
  {
   "cell_type": "code",
   "execution_count": 14,
   "metadata": {},
   "outputs": [
    {
     "name": "stdout",
     "output_type": "stream",
     "text": [
      "5\n"
     ]
    }
   ],
   "source": [
    "#to get the number of elements-\n",
    "print(len(mytuple))"
   ]
  },
  {
   "cell_type": "code",
   "execution_count": 15,
   "metadata": {},
   "outputs": [
    {
     "name": "stdout",
     "output_type": "stream",
     "text": [
      "2\n"
     ]
    }
   ],
   "source": [
    "# count an element in tuple-\n",
    "my_tuple = ('a','e','i','o','u','u')\n",
    "print(my_tuple.count('u'))"
   ]
  },
  {
   "cell_type": "code",
   "execution_count": 20,
   "metadata": {},
   "outputs": [
    {
     "name": "stdout",
     "output_type": "stream",
     "text": [
      "3\n"
     ]
    }
   ],
   "source": [
    "# finding index of an element -\n",
    "print(my_tuple.index('o'))"
   ]
  },
  {
   "cell_type": "code",
   "execution_count": 27,
   "metadata": {},
   "outputs": [
    {
     "name": "stdout",
     "output_type": "stream",
     "text": [
      "(3, 4)\n",
      "(3, 4, 5)\n",
      "(1, 2, 3, 4, 5)\n",
      "(1, 3, 5)\n",
      "(5, 4, 3, 2, 1)\n"
     ]
    }
   ],
   "source": [
    "## slicing a tuple\n",
    "my_tuple = (1,2,3,4,5)\n",
    "print(my_tuple[2:4])\n",
    "print(my_tuple[2:])\n",
    "print(my_tuple[:5])\n",
    "#optional step argument\n",
    "print(my_tuple[::2])\n",
    "#reverse a tupel-\n",
    "print(my_tuple[::-1])"
   ]
  },
  {
   "cell_type": "code",
   "execution_count": 29,
   "metadata": {},
   "outputs": [
    {
     "name": "stdout",
     "output_type": "stream",
     "text": [
      "suresh\n",
      "piyush\n",
      "naresh\n"
     ]
    }
   ],
   "source": [
    "# unpack a tuple-\n",
    "my_tuple = ('suresh','naresh','piyush')\n",
    "name1,name2,name3 = my_tuple\n",
    "print(name1)\n",
    "print(name3)\n",
    "print(name2)"
   ]
  },
  {
   "cell_type": "code",
   "execution_count": 33,
   "metadata": {},
   "outputs": [
    {
     "name": "stdout",
     "output_type": "stream",
     "text": [
      "suresh naresh\n"
     ]
    }
   ],
   "source": [
    "# unpack if you dont know the number of items-\n",
    "my_tuple = ('suresh','naresh','piyush')\n",
    "*names,b = my_tuple\n",
    "print(*names)"
   ]
  },
  {
   "cell_type": "code",
   "execution_count": 35,
   "metadata": {},
   "outputs": [
    {
     "name": "stdout",
     "output_type": "stream",
     "text": [
      "112 bytes\n",
      "96 bytes\n"
     ]
    }
   ],
   "source": [
    "#Tuple can be more efficient when working with large data-\n",
    "#even though they save same element size of list is more.\n",
    "#python know tuple is immutable so it optimizes internally.\n",
    "import sys\n",
    "my_list = [0,1,2,3,'hello', True]\n",
    "my_tuple = (0,1,2,3,'hello', True)\n",
    "print(sys.getsizeof(my_list),'bytes')\n",
    "print(sys.getsizeof(my_tuple),'bytes')"
   ]
  },
  {
   "cell_type": "code",
   "execution_count": 36,
   "metadata": {},
   "outputs": [
    {
     "name": "stdout",
     "output_type": "stream",
     "text": [
      "0.052991193006164394\n",
      "0.009274059004383162\n"
     ]
    }
   ],
   "source": [
    "# we can check the time taken using time it method.\n",
    "import timeit\n",
    "print(timeit.timeit(stmt = \"[0,1,2,3,4,5]\" , number = 1000000))\n",
    "print(timeit.timeit(stmt = \"(0,1,2,3,4,5)\" , number = 1000000))"
   ]
  },
  {
   "cell_type": "code",
   "execution_count": null,
   "metadata": {},
   "outputs": [],
   "source": []
  }
 ],
 "metadata": {
  "kernelspec": {
   "display_name": "Python 3",
   "language": "python",
   "name": "python3"
  },
  "language_info": {
   "codemirror_mode": {
    "name": "ipython",
    "version": 3
   },
   "file_extension": ".py",
   "mimetype": "text/x-python",
   "name": "python",
   "nbconvert_exporter": "python",
   "pygments_lexer": "ipython3",
   "version": "3.6.9"
  }
 },
 "nbformat": 4,
 "nbformat_minor": 4
}
