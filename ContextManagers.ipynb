{
 "cells": [
  {
   "cell_type": "markdown",
   "metadata": {},
   "source": [
    "### Context Managers\n",
    "context managers are a great tool for resource management.They allow you to allocate and release resources precisely."
   ]
  },
  {
   "cell_type": "code",
   "execution_count": null,
   "metadata": {},
   "outputs": [],
   "source": [
    "#with open-\n",
    "# with open will make sure the file is relesed as soon as you leave its context.\n",
    "with open('file.txt') as file:\n",
    "    a = file.read()\n"
   ]
  },
  {
   "cell_type": "code",
   "execution_count": null,
   "metadata": {},
   "outputs": [],
   "source": [
    "# thread lock\n",
    "# it will release resources as soon as you leave context.\n",
    "from threading import lock\n",
    "with lock = Lock()\n",
    "    #do something"
   ]
  },
  {
   "cell_type": "code",
   "execution_count": null,
   "metadata": {},
   "outputs": [],
   "source": [
    "#custom context managers-\n",
    "class Managedfile:\n",
    "    def __init__(self,filename):\n",
    "        self.filename = filename\n",
    "        \n",
    "    def __enter__(self):\n",
    "        print('Enter')\n",
    "        self.file = open(self.filename, 'w')\n",
    "        return self.file\n",
    "    \n",
    "    def __exit__(self,exc_type,exc_value,exc_tracebook):\n",
    "        if self.file:\n",
    "            self.file.close()\n",
    "            if exc_type is not None:\n",
    "                print('exception has been occurred')\n",
    "            print()\n",
    "            print('exit')\n",
    "            \n",
    "            \n",
    "with Managedfile('notes.txt') as file:\n",
    "    z = file.read()\n",
    "    "
   ]
  },
  {
   "cell_type": "code",
   "execution_count": null,
   "metadata": {},
   "outputs": [],
   "source": [
    "# we can create a context manager with a package\n",
    "from contextlib import contextmanager\n",
    "\n",
    "def opened_managed_file(filename):\n",
    "    f = open(filename,'w')\n",
    "    try:\n",
    "        yield f\n",
    "    finally:\n",
    "        f.close\n",
    "        \n",
    "with opened_managed_file('notes.txt') as f:\n",
    "    f.write('todo')"
   ]
  }
 ],
 "metadata": {
  "kernelspec": {
   "display_name": "Python 3",
   "language": "python",
   "name": "python3"
  },
  "language_info": {
   "codemirror_mode": {
    "name": "ipython",
    "version": 3
   },
   "file_extension": ".py",
   "mimetype": "text/x-python",
   "name": "python",
   "nbconvert_exporter": "python",
   "pygments_lexer": "ipython3",
   "version": "3.6.9"
  }
 },
 "nbformat": 4,
 "nbformat_minor": 4
}
