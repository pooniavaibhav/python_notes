{
 "cells": [
  {
   "cell_type": "markdown",
   "metadata": {},
   "source": [
    "### JSON (java script object notation) \n",
    "* it is a light weight data format that is used for data exchange."
   ]
  },
  {
   "cell_type": "markdown",
   "metadata": {},
   "source": [
    "### Serialisation or encoding-\n"
   ]
  },
  {
   "cell_type": "code",
   "execution_count": 8,
   "metadata": {},
   "outputs": [
    {
     "name": "stdout",
     "output_type": "stream",
     "text": [
      "{\n",
      "    \"employees\": [\n",
      "        {\n",
      "            \"email\": \"shyamjaiswal@gmail.com\",\n",
      "            \"name\": \"Shyam\"\n",
      "        },\n",
      "        {\n",
      "            \"email\": \"bob32@gmail.com\",\n",
      "            \"name\": \"Bob\"\n",
      "        },\n",
      "        {\n",
      "            \"email\": \"jai87@gmail.com\",\n",
      "            \"name\": \"Jai\"\n",
      "        }\n",
      "    ]\n",
      "}\n"
     ]
    }
   ],
   "source": [
    "#convert a dictionay to json\n",
    "import json\n",
    "emp =     {\"employees\":[  \n",
    "        {\"name\":\"Shyam\", \"email\":\"shyamjaiswal@gmail.com\"},  \n",
    "        {\"name\":\"Bob\", \"email\":\"bob32@gmail.com\"},  \n",
    "        {\"name\":\"Jai\", \"email\":\"jai87@gmail.com\"} ]}  \n",
    "empj_son=json.dumps(emp,indent=4,sort_keys=True)\n",
    "print(empj_son)"
   ]
  },
  {
   "cell_type": "code",
   "execution_count": null,
   "metadata": {},
   "outputs": [],
   "source": [
    "#dump to a file-\n",
    "with open('person.json') as file:\n",
    "    json.dump(emp, file)"
   ]
  },
  {
   "cell_type": "markdown",
   "metadata": {},
   "source": [
    " ### Deserialisation or decoding-"
   ]
  },
  {
   "cell_type": "code",
   "execution_count": null,
   "metadata": {},
   "outputs": [],
   "source": [
    "#convert a json to dictionary\n",
    "person = json.loads(personjson)"
   ]
  },
  {
   "cell_type": "markdown",
   "metadata": {},
   "source": [
    "### Converting a custom object into dictionary-"
   ]
  },
  {
   "cell_type": "code",
   "execution_count": 11,
   "metadata": {},
   "outputs": [],
   "source": [
    "class User:\n",
    "    def __init__(self,name,age):\n",
    "        self.name = name\n",
    "        self.age = age\n",
    "        \n",
    "user = User('Max','27')"
   ]
  },
  {
   "cell_type": "code",
   "execution_count": 12,
   "metadata": {},
   "outputs": [],
   "source": [
    "# now we need to write custom encoing function to convert this object to json.\n",
    "def encode_user(o):\n",
    "    if isinstance(o,User):\n",
    "        return {'name':o.name,'age':o.age,o.__class__.__name__: True}\n",
    "    else:\n",
    "        raise TypeError('object not serializable')"
   ]
  },
  {
   "cell_type": "code",
   "execution_count": 14,
   "metadata": {},
   "outputs": [
    {
     "name": "stdout",
     "output_type": "stream",
     "text": [
      "{\"name\": \"Max\", \"age\": \"27\", \"User\": true}\n"
     ]
    }
   ],
   "source": [
    "# we can use encode_user function to encode the object:\n",
    "userJSON =json.dumps(user, default=encode_user)\n",
    "print(userJSON)"
   ]
  },
  {
   "cell_type": "code",
   "execution_count": 23,
   "metadata": {},
   "outputs": [
    {
     "name": "stdout",
     "output_type": "stream",
     "text": [
      "{\"name\": \"Max\", \"age\": \"27\", \"User\": true}\n"
     ]
    }
   ],
   "source": [
    "# for encoding you can also use custom json encoder-\n",
    "from json import JSONEncoder\n",
    "\n",
    "class userEncoder(JSONEncoder):\n",
    "    def default(self,o):\n",
    "        if isinstance(o,User):\n",
    "            return {'name':o.name,'age':o.age,o.__class__.__name__: True}\n",
    "        return JSONEncoder.default(self,o)\n",
    "userJSON = userEncoder().encode(user)\n",
    "print(userJSON)"
   ]
  },
  {
   "cell_type": "code",
   "execution_count": 24,
   "metadata": {},
   "outputs": [
    {
     "name": "stdout",
     "output_type": "stream",
     "text": [
      "<class '__main__.User'>\n"
     ]
    }
   ],
   "source": [
    "# Decoder\n",
    "def decode_user(dct):\n",
    "    if User.__name__ in dct:\n",
    "        return User(name=dct['name'], age=dct['age'])\n",
    "    return dct\n",
    "\n",
    "user = json.loads(userJSON, object_hook=decode_user)\n",
    "print(type(user))"
   ]
  },
  {
   "cell_type": "code",
   "execution_count": null,
   "metadata": {},
   "outputs": [],
   "source": []
  }
 ],
 "metadata": {
  "kernelspec": {
   "display_name": "Python 3",
   "language": "python",
   "name": "python3"
  },
  "language_info": {
   "codemirror_mode": {
    "name": "ipython",
    "version": 3
   },
   "file_extension": ".py",
   "mimetype": "text/x-python",
   "name": "python",
   "nbconvert_exporter": "python",
   "pygments_lexer": "ipython3",
   "version": "3.6.9"
  }
 },
 "nbformat": 4,
 "nbformat_minor": 4
}
